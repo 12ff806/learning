{
 "cells": [
  {
   "cell_type": "markdown",
   "metadata": {},
   "source": [
    "## 分析微信好友\n",
    "\n",
    "本文将使用 itchat 库对自己的微信好友做个简单的分析"
   ]
  },
  {
   "cell_type": "markdown",
   "metadata": {},
   "source": [
    "### 安装\n",
    "\n",
    "```sh\n",
    "pip install itchat\n",
    "```"
   ]
  },
  {
   "cell_type": "markdown",
   "metadata": {},
   "source": [
    "### 登录\n",
    "\n",
    "通过扫描二维码登录自己的微信, 获取好友信息"
   ]
  },
  {
   "cell_type": "code",
   "execution_count": 1,
   "metadata": {},
   "outputs": [
    {
     "name": "stdout",
     "output_type": "stream",
     "text": [
      "█\r"
     ]
    }
   ],
   "source": [
    "# 导入 itchat\n",
    "import itchat\n",
    "\n",
    "itchat.auto_login(enableCmdQR=-2, hotReload=True)\n",
    "\n",
    "friends = itchat.get_friends(update=True)"
   ]
  },
  {
   "cell_type": "markdown",
   "metadata": {},
   "source": [
    "### 男女比例"
   ]
  },
  {
   "cell_type": "code",
   "execution_count": 2,
   "metadata": {},
   "outputs": [
    {
     "name": "stdout",
     "output_type": "stream",
     "text": [
      "男性好友: 70.67%\n",
      "女性好友: 25.96%\n",
      "不明性别: 3.37%\n"
     ]
    }
   ],
   "source": [
    "# 初始化计数器\n",
    "male, female, other = (0, 0, 0)\n",
    "# friends[0] 是自己, 所以从 1 开始遍历\n",
    "friends = friends[1:]\n",
    "for f in friends:\n",
    "    sex = f[\"Sex\"]\n",
    "    if sex == 1:\n",
    "        male += 1\n",
    "    elif sex == 2:\n",
    "        female += 1\n",
    "    else:\n",
    "        other += 1\n",
    "\n",
    "num_of_friends = len(friends)\n",
    "# 打印好友的性别比例\n",
    "print(\"男性好友: %.2f%%\" % (male/num_of_friends*100) + \"\\n\" \n",
    "      + \"女性好友: %.2f%%\" % (female/num_of_friends*100) + \"\\n\"\n",
    "      + \"不明性别: %.2f%%\" % (other/num_of_friends*100))"
   ]
  },
  {
   "cell_type": "code",
   "execution_count": 3,
   "metadata": {},
   "outputs": [
    {
     "data": {
      "text/plain": [
       "<matplotlib.axes._subplots.AxesSubplot at 0x7f0309afef60>"
      ]
     },
     "execution_count": 3,
     "metadata": {},
     "output_type": "execute_result"
    },
    {
     "data": {
      "image/png": "[encoded data removed]",
      "text/plain": [
       "<matplotlib.figure.Figure at 0x7f030c0389e8>"
      ]
     },
     "metadata": {},
     "output_type": "display_data"
    }
   ],
   "source": [
    "# 画图\n",
    "import pandas as pd\n",
    "import matplotlib.pyplot as plt\n",
    "%matplotlib inline\n",
    "\n",
    "index = [\"male\", \"female\", \"other\"]\n",
    "value = [male/num_of_friends, female/num_of_friends, other/num_of_friends]\n",
    "data = pd.Series(value, index)\n",
    "data.plot()\n"
   ]
  },
  {
   "cell_type": "markdown",
   "metadata": {},
   "source": [
    "### 整理数据"
   ]
  },
  {
   "cell_type": "code",
   "execution_count": 4,
   "metadata": {},
   "outputs": [],
   "source": [
    "# 取各个不同的字段, 存成一个列表\n",
    "def get_data(var):\n",
    "    data = []\n",
    "    for f in friends:\n",
    "        data.append(f[var])\n",
    "    return data\n",
    "\n",
    "nick_name = get_data(\"NickName\")\n",
    "remark_name = get_data(\"RemarkName\")\n",
    "sex = get_data(\"Sex\")\n",
    "province = get_data(\"Province\")\n",
    "city = get_data(\"City\")\n",
    "signature = get_data(\"Signature\")\n",
    "data = {\n",
    "    \"NickName\": nick_name,\n",
    "    \"RemarkName\": remark_name,\n",
    "    \"Sex\": sex,\n",
    "    \"Province\": province,\n",
    "    \"City\": city,\n",
    "    \"Signature\": signature\n",
    "}\n",
    "dframe = pd.DataFrame(data)\n",
    "dframe.to_csv(\"wechat_friends.csv\", index=True)"
   ]
  },
  {
   "cell_type": "code",
   "execution_count": null,
   "metadata": {
    "collapsed": true
   },
   "outputs": [],
   "source": []
  }
 ],
 "metadata": {
  "kernelspec": {
   "display_name": "Python 3",
   "language": "python",
   "name": "python3"
  },
  "language_info": {
   "codemirror_mode": {
    "name": "ipython",
    "version": 3
   },
   "file_extension": ".py",
   "mimetype": "text/x-python",
   "name": "python",
   "nbconvert_exporter": "python",
   "pygments_lexer": "ipython3",
   "version": "3.6.2"
  }
 },
 "nbformat": 4,
 "nbformat_minor": 2
}
