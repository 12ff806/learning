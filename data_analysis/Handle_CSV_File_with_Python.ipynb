{
 "cells": [
  {
   "cell_type": "markdown",
   "metadata": {},
   "source": [
    "# Handle CSV file with Python"
   ]
  },
  {
   "cell_type": "code",
   "execution_count": 12,
   "metadata": {},
   "outputs": [
    {
     "name": "stdout",
     "output_type": "stream",
     "text": [
      "['Name', 'Year']\n",
      "{'Name': \"Monty Python's Flying Circus\", 'Year': '1970'}\n",
      "{'Name': 'Another Monty Python Record', 'Year': '1971'}\n",
      "{'Name': \"Monty Python's Previous Record\", 'Year': '1972'}\n",
      "{'Name': 'The Monty Python Matching Tie and Handkerchief', 'Year': '1973'}\n",
      "{'Name': 'Monty Python Live at Drury Lane', 'Year': '1974'}\n",
      "{'Name': 'An Album of the Soundtrack of the Trailer of the Film of Monty Python and the Holy Grail', 'Year': '1975'}\n",
      "{'Name': 'Monty Python Live at City Center', 'Year': '1977'}\n",
      "{'Name': 'The Monty Python Instant Record Collection', 'Year': '1977'}\n",
      "{'Name': \"Monty Python's Life of Brian\", 'Year': '1979'}\n",
      "{'Name': \"Monty Python's Cotractual Obligation Album\", 'Year': '1980'}\n",
      "{'Name': \"Monty Python's The Meaning of Life\", 'Year': '1983'}\n",
      "{'Name': 'The Final Rip Off', 'Year': '1987'}\n",
      "{'Name': 'Monty Python Sings', 'Year': '1989'}\n",
      "{'Name': 'The Ultimate Monty Python Rip Off', 'Year': '1994'}\n",
      "{'Name': 'Monty Python Sings Again', 'Year': '2014'}\n"
     ]
    }
   ],
   "source": [
    "import csv\n",
    "\n",
    "with open(\"/home/sins/Downloads/MontyPythonAlbums.csv\", \"r\") as f:\n",
    "    reader = csv.DictReader(f)\n",
    "    print(reader.fieldnames)\n",
    "    for r in reader:\n",
    "        print(dict(r))"
   ]
  },
  {
   "cell_type": "code",
   "execution_count": 43,
   "metadata": {},
   "outputs": [
    {
     "name": "stdout",
     "output_type": "stream",
     "text": [
      "['Name', 'Year']\n",
      "{'Name': \"Monty Python's Flying Circus\", 'Year': '1970'}\n",
      "{'Name': 'Another Monty Python Record', 'Year': '1971'}\n",
      "{'Name': \"Monty Python's Previous Record\", 'Year': '1972'}\n",
      "{'Name': 'The Monty Python Matching Tie and Handkerchief', 'Year': '1973'}\n",
      "{'Name': 'Monty Python Live at Drury Lane', 'Year': '1974'}\n",
      "{'Name': 'An Album of the Soundtrack of the Trailer of the Film of Monty Python and the Holy Grail', 'Year': '1975'}\n",
      "{'Name': 'Monty Python Live at City Center', 'Year': '1977'}\n",
      "{'Name': 'The Monty Python Instant Record Collection', 'Year': '1977'}\n",
      "{'Name': \"Monty Python's Life of Brian\", 'Year': '1979'}\n",
      "{'Name': \"Monty Python's Cotractual Obligation Album\", 'Year': '1980'}\n",
      "{'Name': \"Monty Python's The Meaning of Life\", 'Year': '1983'}\n",
      "{'Name': 'The Final Rip Off', 'Year': '1987'}\n",
      "{'Name': 'Monty Python Sings', 'Year': '1989'}\n",
      "{'Name': 'The Ultimate Monty Python Rip Off', 'Year': '1994'}\n",
      "{'Name': 'Monty Python Sings Again', 'Year': '2014'}\n"
     ]
    }
   ],
   "source": [
    "def read_csv(filename):\n",
    "    with open(filename, \"r\") as f:\n",
    "        reader = csv.DictReader(f)\n",
    "        return reader.fieldnames, list(reader)\n",
    "\n",
    "fieldnames, MontyPythonAlbums = read_csv(\"/home/sins/Downloads/MontyPythonAlbums.csv\")\n",
    "print(fieldnames)\n",
    "for m in MontyPythonAlbums:\n",
    "    print(dict(m))"
   ]
  },
  {
   "cell_type": "code",
   "execution_count": 45,
   "metadata": {},
   "outputs": [
    {
     "name": "stdout",
     "output_type": "stream",
     "text": [
      "15\n",
      "{'The Monty Python Instant Record Collection', 'Monty Python Sings Again', 'The Monty Python Matching Tie and Handkerchief', 'An Album of the Soundtrack of the Trailer of the Film of Monty Python and the Holy Grail', \"Monty Python's Flying Circus\", \"Monty Python's Life of Brian\", \"Monty Python's The Meaning of Life\", \"Monty Python's Cotractual Obligation Album\", 'The Ultimate Monty Python Rip Off', 'Monty Python Live at City Center', \"Monty Python's Previous Record\", 'Monty Python Live at Drury Lane', 'Monty Python Sings', 'Another Monty Python Record', 'The Final Rip Off'}\n",
      "15\n"
     ]
    }
   ],
   "source": [
    "print(len(MontyPythonAlbums))\n",
    "\n",
    "unique_mpa_names = set()\n",
    "for m in MontyPythonAlbums:\n",
    "    unique_mpa_names.add(m[\"Name\"])\n",
    "    \n",
    "print(unique_mpa_names)\n",
    "print(len(unique_mpa_names))"
   ]
  }
 ],
 "metadata": {
  "kernelspec": {
   "display_name": "Python 3",
   "language": "python",
   "name": "python3"
  },
  "language_info": {
   "codemirror_mode": {
    "name": "ipython",
    "version": 3
   },
   "file_extension": ".py",
   "mimetype": "text/x-python",
   "name": "python",
   "nbconvert_exporter": "python",
   "pygments_lexer": "ipython3",
   "version": "3.6.2"
  }
 },
 "nbformat": 4,
 "nbformat_minor": 2
}
